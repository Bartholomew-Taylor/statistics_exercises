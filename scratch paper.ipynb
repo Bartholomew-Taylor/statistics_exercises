{
 "cells": [
  {
   "cell_type": "code",
   "execution_count": 1,
   "id": "ec24bbf2",
   "metadata": {},
   "outputs": [],
   "source": [
    "import matplotlib.pyplot as plt\n",
    "import numpy as np\n",
    "from scipy import stats\n",
    "import viz # curriculum viz example code\n",
    "import pandas as pd\n",
    "\n",
    "np.random.seed(999)"
   ]
  },
  {
   "cell_type": "code",
   "execution_count": 7,
   "id": "b50a86c1",
   "metadata": {},
   "outputs": [
    {
     "data": {
      "text/plain": [
       "0.1228196933987875"
      ]
     },
     "execution_count": 7,
     "metadata": {},
     "output_type": "execute_result"
    }
   ],
   "source": [
    "n_trials = 618\n",
    "p = .1\n",
    "click_through = stats.binom(n_trials, p)\n",
    "click_through.sf(70)"
   ]
  },
  {
   "cell_type": "code",
   "execution_count": 8,
   "id": "fe246beb",
   "metadata": {},
   "outputs": [],
   "source": [
    "avg = 40\n",
    "std = 15\n",
    "esquire = stats.norm(std, avg)"
   ]
  },
  {
   "cell_type": "code",
   "execution_count": 11,
   "id": "a9550942",
   "metadata": {},
   "outputs": [
    {
     "data": {
      "text/plain": [
       "0.8092130471474893"
      ]
     },
     "execution_count": 11,
     "metadata": {},
     "output_type": "execute_result"
    }
   ],
   "source": [
    "esquire.cdf(50)"
   ]
  },
  {
   "cell_type": "code",
   "execution_count": null,
   "id": "bd9edeb8",
   "metadata": {},
   "outputs": [],
   "source": []
  }
 ],
 "metadata": {
  "kernelspec": {
   "display_name": "Python 3 (ipykernel)",
   "language": "python",
   "name": "python3"
  },
  "language_info": {
   "codemirror_mode": {
    "name": "ipython",
    "version": 3
   },
   "file_extension": ".py",
   "mimetype": "text/x-python",
   "name": "python",
   "nbconvert_exporter": "python",
   "pygments_lexer": "ipython3",
   "version": "3.9.13"
  }
 },
 "nbformat": 4,
 "nbformat_minor": 5
}
