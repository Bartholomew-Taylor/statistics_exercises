{
 "cells": [
  {
   "cell_type": "markdown",
   "id": "61250e36",
   "metadata": {},
   "source": [
    " Answer with the type of stats test you would use (assume normal distribution):\n",
    "\n",
    "Do students get better test grades if they have a rubber duck on their desk?  \n",
    "T-Test, one-tail"
   ]
  },
  {
   "cell_type": "markdown",
   "id": "89dc4091",
   "metadata": {},
   "source": [
    "Does smoking affect whether or not someone has lung cancer?  \n",
    "Chi Squared"
   ]
  },
  {
   "cell_type": "markdown",
   "id": "ca49bbd2",
   "metadata": {},
   "source": [
    "Is gender independent of a person’s blood type?  \n",
    "Chi Squared"
   ]
  },
  {
   "cell_type": "markdown",
   "id": "aa4a59b7",
   "metadata": {},
   "source": [
    "A farming company wants to know if a new fertilizer has improved crop yield or not  \n",
    "T-Test, two-tail"
   ]
  },
  {
   "cell_type": "markdown",
   "id": "5e0b3014",
   "metadata": {},
   "source": [
    "Does the length of time of the lecture correlate with a students grade?  \n",
    "PearsonR"
   ]
  },
  {
   "cell_type": "markdown",
   "id": "505a9bb9",
   "metadata": {},
   "source": [
    "Do people with dogs live in apartments more than people with cats?  \n",
    "Chi Squared"
   ]
  },
  {
   "cell_type": "markdown",
   "id": "17742124",
   "metadata": {},
   "source": [
    "Use the following contingency table to help answer the question of whether using a macbook and being a codeup student are independent of each other.\n",
    "\n",
    "                        Codeup Student\tNot Codeup Student\n",
    "Uses a Macbook\t        49\t            20\n",
    "Doesn't Use A Macbook\t1\t            30"
   ]
  },
  {
   "cell_type": "code",
   "execution_count": null,
   "id": "90260d07",
   "metadata": {},
   "outputs": [],
   "source": []
  },
  {
   "cell_type": "markdown",
   "id": "f233f767",
   "metadata": {},
   "source": [
    "Choose another 2 categorical variables from the mpg dataset and perform a \n",
    "chi2 contingency table test with them. Be sure to state your null and alternative hypotheses."
   ]
  },
  {
   "cell_type": "code",
   "execution_count": 11,
   "id": "1069f709",
   "metadata": {},
   "outputs": [
    {
     "data": {
      "text/html": [
       "<div>\n",
       "<style scoped>\n",
       "    .dataframe tbody tr th:only-of-type {\n",
       "        vertical-align: middle;\n",
       "    }\n",
       "\n",
       "    .dataframe tbody tr th {\n",
       "        vertical-align: top;\n",
       "    }\n",
       "\n",
       "    .dataframe thead th {\n",
       "        text-align: right;\n",
       "    }\n",
       "</style>\n",
       "<table border=\"1\" class=\"dataframe\">\n",
       "  <thead>\n",
       "    <tr style=\"text-align: right;\">\n",
       "      <th></th>\n",
       "      <th>manufacturer</th>\n",
       "      <th>model</th>\n",
       "      <th>displ</th>\n",
       "      <th>year</th>\n",
       "      <th>cyl</th>\n",
       "      <th>trans</th>\n",
       "      <th>drv</th>\n",
       "      <th>cty</th>\n",
       "      <th>hwy</th>\n",
       "      <th>fl</th>\n",
       "      <th>class</th>\n",
       "    </tr>\n",
       "  </thead>\n",
       "  <tbody>\n",
       "    <tr>\n",
       "      <th>1</th>\n",
       "      <td>audi</td>\n",
       "      <td>a4</td>\n",
       "      <td>1.8</td>\n",
       "      <td>1999</td>\n",
       "      <td>4</td>\n",
       "      <td>auto(l5)</td>\n",
       "      <td>f</td>\n",
       "      <td>18</td>\n",
       "      <td>29</td>\n",
       "      <td>p</td>\n",
       "      <td>compact</td>\n",
       "    </tr>\n",
       "    <tr>\n",
       "      <th>2</th>\n",
       "      <td>audi</td>\n",
       "      <td>a4</td>\n",
       "      <td>1.8</td>\n",
       "      <td>1999</td>\n",
       "      <td>4</td>\n",
       "      <td>manual(m5)</td>\n",
       "      <td>f</td>\n",
       "      <td>21</td>\n",
       "      <td>29</td>\n",
       "      <td>p</td>\n",
       "      <td>compact</td>\n",
       "    </tr>\n",
       "    <tr>\n",
       "      <th>3</th>\n",
       "      <td>audi</td>\n",
       "      <td>a4</td>\n",
       "      <td>2.0</td>\n",
       "      <td>2008</td>\n",
       "      <td>4</td>\n",
       "      <td>manual(m6)</td>\n",
       "      <td>f</td>\n",
       "      <td>20</td>\n",
       "      <td>31</td>\n",
       "      <td>p</td>\n",
       "      <td>compact</td>\n",
       "    </tr>\n",
       "    <tr>\n",
       "      <th>4</th>\n",
       "      <td>audi</td>\n",
       "      <td>a4</td>\n",
       "      <td>2.0</td>\n",
       "      <td>2008</td>\n",
       "      <td>4</td>\n",
       "      <td>auto(av)</td>\n",
       "      <td>f</td>\n",
       "      <td>21</td>\n",
       "      <td>30</td>\n",
       "      <td>p</td>\n",
       "      <td>compact</td>\n",
       "    </tr>\n",
       "    <tr>\n",
       "      <th>5</th>\n",
       "      <td>audi</td>\n",
       "      <td>a4</td>\n",
       "      <td>2.8</td>\n",
       "      <td>1999</td>\n",
       "      <td>6</td>\n",
       "      <td>auto(l5)</td>\n",
       "      <td>f</td>\n",
       "      <td>16</td>\n",
       "      <td>26</td>\n",
       "      <td>p</td>\n",
       "      <td>compact</td>\n",
       "    </tr>\n",
       "  </tbody>\n",
       "</table>\n",
       "</div>"
      ],
      "text/plain": [
       "  manufacturer model  displ  year  cyl       trans drv  cty  hwy fl    class\n",
       "1         audi    a4    1.8  1999    4    auto(l5)   f   18   29  p  compact\n",
       "2         audi    a4    1.8  1999    4  manual(m5)   f   21   29  p  compact\n",
       "3         audi    a4    2.0  2008    4  manual(m6)   f   20   31  p  compact\n",
       "4         audi    a4    2.0  2008    4    auto(av)   f   21   30  p  compact\n",
       "5         audi    a4    2.8  1999    6    auto(l5)   f   16   26  p  compact"
      ]
     },
     "execution_count": 11,
     "metadata": {},
     "output_type": "execute_result"
    }
   ],
   "source": [
    "import pandas as pd\n",
    "from scipy import stats\n",
    "from pydataset import data\n",
    "import numpy as np\n",
    "import env \n",
    "\n",
    "\n",
    "mpg = data('mpg')\n",
    "mpg.head()\n",
    "\n",
    "#Is variable: Manufacturer independent of variable: class?\n",
    "#Manufacturer is independent of class\n",
    "#Manufacturer is not independent of class"
   ]
  },
  {
   "cell_type": "code",
   "execution_count": 4,
   "id": "1a96831a",
   "metadata": {},
   "outputs": [
    {
     "data": {
      "text/html": [
       "<div>\n",
       "<style scoped>\n",
       "    .dataframe tbody tr th:only-of-type {\n",
       "        vertical-align: middle;\n",
       "    }\n",
       "\n",
       "    .dataframe tbody tr th {\n",
       "        vertical-align: top;\n",
       "    }\n",
       "\n",
       "    .dataframe thead th {\n",
       "        text-align: right;\n",
       "    }\n",
       "</style>\n",
       "<table border=\"1\" class=\"dataframe\">\n",
       "  <thead>\n",
       "    <tr style=\"text-align: right;\">\n",
       "      <th>class</th>\n",
       "      <th>2seater</th>\n",
       "      <th>compact</th>\n",
       "      <th>midsize</th>\n",
       "      <th>minivan</th>\n",
       "      <th>pickup</th>\n",
       "      <th>subcompact</th>\n",
       "      <th>suv</th>\n",
       "    </tr>\n",
       "    <tr>\n",
       "      <th>manufacturer</th>\n",
       "      <th></th>\n",
       "      <th></th>\n",
       "      <th></th>\n",
       "      <th></th>\n",
       "      <th></th>\n",
       "      <th></th>\n",
       "      <th></th>\n",
       "    </tr>\n",
       "  </thead>\n",
       "  <tbody>\n",
       "    <tr>\n",
       "      <th>audi</th>\n",
       "      <td>0</td>\n",
       "      <td>15</td>\n",
       "      <td>3</td>\n",
       "      <td>0</td>\n",
       "      <td>0</td>\n",
       "      <td>0</td>\n",
       "      <td>0</td>\n",
       "    </tr>\n",
       "    <tr>\n",
       "      <th>chevrolet</th>\n",
       "      <td>5</td>\n",
       "      <td>0</td>\n",
       "      <td>5</td>\n",
       "      <td>0</td>\n",
       "      <td>0</td>\n",
       "      <td>0</td>\n",
       "      <td>9</td>\n",
       "    </tr>\n",
       "    <tr>\n",
       "      <th>dodge</th>\n",
       "      <td>0</td>\n",
       "      <td>0</td>\n",
       "      <td>0</td>\n",
       "      <td>11</td>\n",
       "      <td>19</td>\n",
       "      <td>0</td>\n",
       "      <td>7</td>\n",
       "    </tr>\n",
       "    <tr>\n",
       "      <th>ford</th>\n",
       "      <td>0</td>\n",
       "      <td>0</td>\n",
       "      <td>0</td>\n",
       "      <td>0</td>\n",
       "      <td>7</td>\n",
       "      <td>9</td>\n",
       "      <td>9</td>\n",
       "    </tr>\n",
       "    <tr>\n",
       "      <th>honda</th>\n",
       "      <td>0</td>\n",
       "      <td>0</td>\n",
       "      <td>0</td>\n",
       "      <td>0</td>\n",
       "      <td>0</td>\n",
       "      <td>9</td>\n",
       "      <td>0</td>\n",
       "    </tr>\n",
       "    <tr>\n",
       "      <th>hyundai</th>\n",
       "      <td>0</td>\n",
       "      <td>0</td>\n",
       "      <td>7</td>\n",
       "      <td>0</td>\n",
       "      <td>0</td>\n",
       "      <td>7</td>\n",
       "      <td>0</td>\n",
       "    </tr>\n",
       "    <tr>\n",
       "      <th>jeep</th>\n",
       "      <td>0</td>\n",
       "      <td>0</td>\n",
       "      <td>0</td>\n",
       "      <td>0</td>\n",
       "      <td>0</td>\n",
       "      <td>0</td>\n",
       "      <td>8</td>\n",
       "    </tr>\n",
       "    <tr>\n",
       "      <th>land rover</th>\n",
       "      <td>0</td>\n",
       "      <td>0</td>\n",
       "      <td>0</td>\n",
       "      <td>0</td>\n",
       "      <td>0</td>\n",
       "      <td>0</td>\n",
       "      <td>4</td>\n",
       "    </tr>\n",
       "    <tr>\n",
       "      <th>lincoln</th>\n",
       "      <td>0</td>\n",
       "      <td>0</td>\n",
       "      <td>0</td>\n",
       "      <td>0</td>\n",
       "      <td>0</td>\n",
       "      <td>0</td>\n",
       "      <td>3</td>\n",
       "    </tr>\n",
       "    <tr>\n",
       "      <th>mercury</th>\n",
       "      <td>0</td>\n",
       "      <td>0</td>\n",
       "      <td>0</td>\n",
       "      <td>0</td>\n",
       "      <td>0</td>\n",
       "      <td>0</td>\n",
       "      <td>4</td>\n",
       "    </tr>\n",
       "    <tr>\n",
       "      <th>nissan</th>\n",
       "      <td>0</td>\n",
       "      <td>2</td>\n",
       "      <td>7</td>\n",
       "      <td>0</td>\n",
       "      <td>0</td>\n",
       "      <td>0</td>\n",
       "      <td>4</td>\n",
       "    </tr>\n",
       "    <tr>\n",
       "      <th>pontiac</th>\n",
       "      <td>0</td>\n",
       "      <td>0</td>\n",
       "      <td>5</td>\n",
       "      <td>0</td>\n",
       "      <td>0</td>\n",
       "      <td>0</td>\n",
       "      <td>0</td>\n",
       "    </tr>\n",
       "    <tr>\n",
       "      <th>subaru</th>\n",
       "      <td>0</td>\n",
       "      <td>4</td>\n",
       "      <td>0</td>\n",
       "      <td>0</td>\n",
       "      <td>0</td>\n",
       "      <td>4</td>\n",
       "      <td>6</td>\n",
       "    </tr>\n",
       "    <tr>\n",
       "      <th>toyota</th>\n",
       "      <td>0</td>\n",
       "      <td>12</td>\n",
       "      <td>7</td>\n",
       "      <td>0</td>\n",
       "      <td>7</td>\n",
       "      <td>0</td>\n",
       "      <td>8</td>\n",
       "    </tr>\n",
       "    <tr>\n",
       "      <th>volkswagen</th>\n",
       "      <td>0</td>\n",
       "      <td>14</td>\n",
       "      <td>7</td>\n",
       "      <td>0</td>\n",
       "      <td>0</td>\n",
       "      <td>6</td>\n",
       "      <td>0</td>\n",
       "    </tr>\n",
       "  </tbody>\n",
       "</table>\n",
       "</div>"
      ],
      "text/plain": [
       "class         2seater  compact  midsize  minivan  pickup  subcompact  suv\n",
       "manufacturer                                                             \n",
       "audi                0       15        3        0       0           0    0\n",
       "chevrolet           5        0        5        0       0           0    9\n",
       "dodge               0        0        0       11      19           0    7\n",
       "ford                0        0        0        0       7           9    9\n",
       "honda               0        0        0        0       0           9    0\n",
       "hyundai             0        0        7        0       0           7    0\n",
       "jeep                0        0        0        0       0           0    8\n",
       "land rover          0        0        0        0       0           0    4\n",
       "lincoln             0        0        0        0       0           0    3\n",
       "mercury             0        0        0        0       0           0    4\n",
       "nissan              0        2        7        0       0           0    4\n",
       "pontiac             0        0        5        0       0           0    0\n",
       "subaru              0        4        0        0       0           4    6\n",
       "toyota              0       12        7        0       7           0    8\n",
       "volkswagen          0       14        7        0       0           6    0"
      ]
     },
     "execution_count": 4,
     "metadata": {},
     "output_type": "execute_result"
    }
   ],
   "source": [
    "observed = pd.crosstab(mpg.manufacturer, mpg['class'])\n",
    "observed"
   ]
  },
  {
   "cell_type": "code",
   "execution_count": 5,
   "id": "a7cd8ab1",
   "metadata": {
    "scrolled": true
   },
   "outputs": [
    {
     "data": {
      "text/plain": [
       "(464.37214690582,\n",
       " 5.267718408816259e-54,\n",
       " 84,\n",
       " array([[0.38461538, 3.61538462, 3.15384615, 0.84615385, 2.53846154,\n",
       "         2.69230769, 4.76923077],\n",
       "        [0.40598291, 3.81623932, 3.32905983, 0.89316239, 2.67948718,\n",
       "         2.84188034, 5.03418803],\n",
       "        [0.79059829, 7.43162393, 6.48290598, 1.73931624, 5.21794872,\n",
       "         5.53418803, 9.8034188 ],\n",
       "        [0.53418803, 5.02136752, 4.38034188, 1.17521368, 3.52564103,\n",
       "         3.73931624, 6.62393162],\n",
       "        [0.19230769, 1.80769231, 1.57692308, 0.42307692, 1.26923077,\n",
       "         1.34615385, 2.38461538],\n",
       "        [0.2991453 , 2.81196581, 2.45299145, 0.65811966, 1.97435897,\n",
       "         2.09401709, 3.70940171],\n",
       "        [0.17094017, 1.60683761, 1.4017094 , 0.37606838, 1.12820513,\n",
       "         1.1965812 , 2.11965812],\n",
       "        [0.08547009, 0.8034188 , 0.7008547 , 0.18803419, 0.56410256,\n",
       "         0.5982906 , 1.05982906],\n",
       "        [0.06410256, 0.6025641 , 0.52564103, 0.14102564, 0.42307692,\n",
       "         0.44871795, 0.79487179],\n",
       "        [0.08547009, 0.8034188 , 0.7008547 , 0.18803419, 0.56410256,\n",
       "         0.5982906 , 1.05982906],\n",
       "        [0.27777778, 2.61111111, 2.27777778, 0.61111111, 1.83333333,\n",
       "         1.94444444, 3.44444444],\n",
       "        [0.10683761, 1.0042735 , 0.87606838, 0.23504274, 0.70512821,\n",
       "         0.74786325, 1.32478632],\n",
       "        [0.2991453 , 2.81196581, 2.45299145, 0.65811966, 1.97435897,\n",
       "         2.09401709, 3.70940171],\n",
       "        [0.72649573, 6.82905983, 5.95726496, 1.5982906 , 4.79487179,\n",
       "         5.08547009, 9.00854701],\n",
       "        [0.57692308, 5.42307692, 4.73076923, 1.26923077, 3.80769231,\n",
       "         4.03846154, 7.15384615]]))"
      ]
     },
     "execution_count": 5,
     "metadata": {},
     "output_type": "execute_result"
    }
   ],
   "source": [
    "chi2, p, degf, expected = stats.chi2_contingency(observed)\n",
    "chi2, p, degf, expected"
   ]
  },
  {
   "cell_type": "code",
   "execution_count": 6,
   "id": "f9c3fa93",
   "metadata": {},
   "outputs": [
    {
     "name": "stdout",
     "output_type": "stream",
     "text": [
      "Observed Values\n",
      "\n",
      "[[ 0 15  3  0  0  0  0]\n",
      " [ 5  0  5  0  0  0  9]\n",
      " [ 0  0  0 11 19  0  7]\n",
      " [ 0  0  0  0  7  9  9]\n",
      " [ 0  0  0  0  0  9  0]\n",
      " [ 0  0  7  0  0  7  0]\n",
      " [ 0  0  0  0  0  0  8]\n",
      " [ 0  0  0  0  0  0  4]\n",
      " [ 0  0  0  0  0  0  3]\n",
      " [ 0  0  0  0  0  0  4]\n",
      " [ 0  2  7  0  0  0  4]\n",
      " [ 0  0  5  0  0  0  0]\n",
      " [ 0  4  0  0  0  4  6]\n",
      " [ 0 12  7  0  7  0  8]\n",
      " [ 0 14  7  0  0  6  0]]\n",
      "---\n",
      "Expected Values\n",
      "\n",
      "[[0 3 3 0 2 2 4]\n",
      " [0 3 3 0 2 2 5]\n",
      " [0 7 6 1 5 5 9]\n",
      " [0 5 4 1 3 3 6]\n",
      " [0 1 1 0 1 1 2]\n",
      " [0 2 2 0 1 2 3]\n",
      " [0 1 1 0 1 1 2]\n",
      " [0 0 0 0 0 0 1]\n",
      " [0 0 0 0 0 0 0]\n",
      " [0 0 0 0 0 0 1]\n",
      " [0 2 2 0 1 1 3]\n",
      " [0 1 0 0 0 0 1]\n",
      " [0 2 2 0 1 2 3]\n",
      " [0 6 5 1 4 5 9]\n",
      " [0 5 4 1 3 4 7]]\n",
      "---\n",
      "\n",
      "chi^2 = 464.3721\n",
      "p     = 0.0000\n"
     ]
    }
   ],
   "source": [
    "# print 'Observed Values' followed by a new line\n",
    "print('Observed Values\\n')\n",
    "\n",
    "# print the values from the 'observed' dataframe\n",
    "print(observed.values)\n",
    "\n",
    "# print --- and then a new line, 'Expected Values', followed by another new line\n",
    "print('---\\nExpected Values\\n')\n",
    "\n",
    "# print the expected values array\n",
    "print(expected.astype(int))\n",
    "\n",
    "# print a new line\n",
    "print('---\\n')\n",
    "\n",
    "# print the chi2 value, formatted to a float with 4 digits. \n",
    "print(f'chi^2 = {chi2:.4f}') \n",
    "\n",
    "# print the p-value, formatted to a float with 4 digits. \n",
    "print(f'p     = {p:.4f}')"
   ]
  },
  {
   "cell_type": "markdown",
   "id": "545c6ae6",
   "metadata": {},
   "source": [
    "Use the data from the employees database to answer these questions:"
   ]
  },
  {
   "cell_type": "code",
   "execution_count": 47,
   "id": "3812cf87",
   "metadata": {},
   "outputs": [],
   "source": [
    "query = '''\n",
    "SELECT gender, dept_name\n",
    "FROM employees\n",
    "JOIN dept_emp USING(emp_no)\n",
    "JOIN departments USING(dept_no)\n",
    "WHERE dept_emp.to_date LIKE '9999%%'\n",
    "'''"
   ]
  },
  {
   "cell_type": "code",
   "execution_count": 48,
   "id": "d51e4173",
   "metadata": {},
   "outputs": [],
   "source": [
    "def get_db_url(username, password, host, db):\n",
    "    return f'mysql+pymysql://{username}:{password}@{host}/{db}'\n",
    "\n",
    "url = get_db_url(env.username, env.password, env.host, db='employees')"
   ]
  },
  {
   "cell_type": "code",
   "execution_count": 49,
   "id": "b69d2a89",
   "metadata": {
    "scrolled": true
   },
   "outputs": [
    {
     "name": "stdout",
     "output_type": "stream",
     "text": [
      "<class 'pandas.core.frame.DataFrame'>\n",
      "RangeIndex: 240124 entries, 0 to 240123\n",
      "Data columns (total 2 columns):\n",
      " #   Column     Non-Null Count   Dtype \n",
      "---  ------     --------------   ----- \n",
      " 0   gender     240124 non-null  object\n",
      " 1   dept_name  240124 non-null  object\n",
      "dtypes: object(2)\n",
      "memory usage: 3.7+ MB\n"
     ]
    }
   ],
   "source": [
    "df = pd.read_sql(query, url)\n",
    "df.info()"
   ]
  },
  {
   "cell_type": "markdown",
   "id": "584f8dc7",
   "metadata": {},
   "source": [
    "Is an employee's gender independent of whether an employee works in sales or marketing? (only look at current employees)"
   ]
  },
  {
   "cell_type": "code",
   "execution_count": 50,
   "id": "401ef8ca",
   "metadata": {},
   "outputs": [
    {
     "data": {
      "text/html": [
       "<div>\n",
       "<style scoped>\n",
       "    .dataframe tbody tr th:only-of-type {\n",
       "        vertical-align: middle;\n",
       "    }\n",
       "\n",
       "    .dataframe tbody tr th {\n",
       "        vertical-align: top;\n",
       "    }\n",
       "\n",
       "    .dataframe thead th {\n",
       "        text-align: right;\n",
       "    }\n",
       "</style>\n",
       "<table border=\"1\" class=\"dataframe\">\n",
       "  <thead>\n",
       "    <tr style=\"text-align: right;\">\n",
       "      <th></th>\n",
       "      <th>gender</th>\n",
       "      <th>dept_name</th>\n",
       "    </tr>\n",
       "  </thead>\n",
       "  <tbody>\n",
       "    <tr>\n",
       "      <th>104290</th>\n",
       "      <td>F</td>\n",
       "      <td>Marketing</td>\n",
       "    </tr>\n",
       "    <tr>\n",
       "      <th>104291</th>\n",
       "      <td>M</td>\n",
       "      <td>Marketing</td>\n",
       "    </tr>\n",
       "    <tr>\n",
       "      <th>104292</th>\n",
       "      <td>F</td>\n",
       "      <td>Marketing</td>\n",
       "    </tr>\n",
       "    <tr>\n",
       "      <th>104293</th>\n",
       "      <td>F</td>\n",
       "      <td>Marketing</td>\n",
       "    </tr>\n",
       "    <tr>\n",
       "      <th>104294</th>\n",
       "      <td>F</td>\n",
       "      <td>Marketing</td>\n",
       "    </tr>\n",
       "    <tr>\n",
       "      <th>...</th>\n",
       "      <td>...</td>\n",
       "      <td>...</td>\n",
       "    </tr>\n",
       "    <tr>\n",
       "      <th>240119</th>\n",
       "      <td>F</td>\n",
       "      <td>Sales</td>\n",
       "    </tr>\n",
       "    <tr>\n",
       "      <th>240120</th>\n",
       "      <td>M</td>\n",
       "      <td>Sales</td>\n",
       "    </tr>\n",
       "    <tr>\n",
       "      <th>240121</th>\n",
       "      <td>M</td>\n",
       "      <td>Sales</td>\n",
       "    </tr>\n",
       "    <tr>\n",
       "      <th>240122</th>\n",
       "      <td>F</td>\n",
       "      <td>Sales</td>\n",
       "    </tr>\n",
       "    <tr>\n",
       "      <th>240123</th>\n",
       "      <td>F</td>\n",
       "      <td>Sales</td>\n",
       "    </tr>\n",
       "  </tbody>\n",
       "</table>\n",
       "<p>52543 rows × 2 columns</p>\n",
       "</div>"
      ],
      "text/plain": [
       "       gender  dept_name\n",
       "104290      F  Marketing\n",
       "104291      M  Marketing\n",
       "104292      F  Marketing\n",
       "104293      F  Marketing\n",
       "104294      F  Marketing\n",
       "...       ...        ...\n",
       "240119      F      Sales\n",
       "240120      M      Sales\n",
       "240121      M      Sales\n",
       "240122      F      Sales\n",
       "240123      F      Sales\n",
       "\n",
       "[52543 rows x 2 columns]"
      ]
     },
     "execution_count": 50,
     "metadata": {},
     "output_type": "execute_result"
    }
   ],
   "source": [
    "m_and_s = df[df.dept_name.isin([\"Sales\", \"Marketing\"])]\n",
    "m_and_s\n",
    "\n",
    "#H0 : employee gender is independent of of there placement in sales or marketing\n",
    "#HA : employee gender is not independent of of there placement in sales or marketing"
   ]
  },
  {
   "cell_type": "code",
   "execution_count": 53,
   "id": "9ecc5fdf",
   "metadata": {
    "scrolled": true
   },
   "outputs": [
    {
     "data": {
      "text/html": [
       "<div>\n",
       "<style scoped>\n",
       "    .dataframe tbody tr th:only-of-type {\n",
       "        vertical-align: middle;\n",
       "    }\n",
       "\n",
       "    .dataframe tbody tr th {\n",
       "        vertical-align: top;\n",
       "    }\n",
       "\n",
       "    .dataframe thead th {\n",
       "        text-align: right;\n",
       "    }\n",
       "</style>\n",
       "<table border=\"1\" class=\"dataframe\">\n",
       "  <thead>\n",
       "    <tr style=\"text-align: right;\">\n",
       "      <th>dept_name</th>\n",
       "      <th>Marketing</th>\n",
       "      <th>Sales</th>\n",
       "    </tr>\n",
       "    <tr>\n",
       "      <th>gender</th>\n",
       "      <th></th>\n",
       "      <th></th>\n",
       "    </tr>\n",
       "  </thead>\n",
       "  <tbody>\n",
       "    <tr>\n",
       "      <th>F</th>\n",
       "      <td>5864</td>\n",
       "      <td>14999</td>\n",
       "    </tr>\n",
       "    <tr>\n",
       "      <th>M</th>\n",
       "      <td>8978</td>\n",
       "      <td>22702</td>\n",
       "    </tr>\n",
       "  </tbody>\n",
       "</table>\n",
       "</div>"
      ],
      "text/plain": [
       "dept_name  Marketing  Sales\n",
       "gender                     \n",
       "F               5864  14999\n",
       "M               8978  22702"
      ]
     },
     "execution_count": 53,
     "metadata": {},
     "output_type": "execute_result"
    }
   ],
   "source": [
    "observed = pd.crosstab(m_and_s.gender, m_and_s.dept_name)\n",
    "observed"
   ]
  },
  {
   "cell_type": "code",
   "execution_count": 54,
   "id": "c02c7b2c",
   "metadata": {},
   "outputs": [
    {
     "data": {
      "text/plain": [
       "(0.3240332004060638,\n",
       " 0.5691938610810126,\n",
       " 1,\n",
       " array([[ 5893.2426013, 14969.7573987],\n",
       "        [ 8948.7573987, 22731.2426013]]))"
      ]
     },
     "execution_count": 54,
     "metadata": {},
     "output_type": "execute_result"
    }
   ],
   "source": [
    "chi2, p, degf, expected = stats.chi2_contingency(observed)\n",
    "chi2, p, degf, expected"
   ]
  },
  {
   "cell_type": "code",
   "execution_count": 55,
   "id": "fd3e6851",
   "metadata": {
    "scrolled": true
   },
   "outputs": [
    {
     "name": "stdout",
     "output_type": "stream",
     "text": [
      "Observed Values\n",
      "\n",
      "[[ 5864 14999]\n",
      " [ 8978 22702]]\n",
      "---\n",
      "Expected Values\n",
      "\n",
      "[[ 5893 14969]\n",
      " [ 8948 22731]]\n",
      "---\n",
      "\n",
      "chi^2 = 0.3240\n",
      "p     = 0.5692\n"
     ]
    }
   ],
   "source": [
    "# print 'Observed Values' followed by a new line\n",
    "print('Observed Values\\n')\n",
    "\n",
    "# print the values from the 'observed' dataframe\n",
    "print(observed.values)\n",
    "\n",
    "# print --- and then a new line, 'Expected Values', followed by another new line\n",
    "print('---\\nExpected Values\\n')\n",
    "\n",
    "# print the expected values array\n",
    "print(expected.astype(int))\n",
    "\n",
    "# print a new line\n",
    "print('---\\n')\n",
    "\n",
    "# print the chi2 value, formatted to a float with 4 digits. \n",
    "print(f'chi^2 = {chi2:.4f}') \n",
    "\n",
    "# print the p-value, formatted to a float with 4 digits. \n",
    "print(f'p     = {p:.4f}')"
   ]
  },
  {
   "cell_type": "markdown",
   "id": "5a137819",
   "metadata": {},
   "source": [
    "Null hypothesis is not rejected"
   ]
  },
  {
   "cell_type": "markdown",
   "id": "0f8a7791",
   "metadata": {},
   "source": [
    "Is an employee's gender independent of whether or not they are or have been a manager?"
   ]
  },
  {
   "cell_type": "code",
   "execution_count": 59,
   "id": "3b93b412",
   "metadata": {},
   "outputs": [],
   "source": [
    "query = '''\n",
    "SELECT gender, dept_name\n",
    "FROM employees\n",
    "JOIN dept_manager USING(emp_no)\n",
    "JOIN departments USING(dept_no)\n",
    "'''"
   ]
  },
  {
   "cell_type": "code",
   "execution_count": 60,
   "id": "5d24405b",
   "metadata": {},
   "outputs": [],
   "source": [
    "def get_db_url(username, password, host, db):\n",
    "    return f'mysql+pymysql://{username}:{password}@{host}/{db}'\n",
    "\n",
    "url = get_db_url(env.username, env.password, env.host, db='employees')"
   ]
  },
  {
   "cell_type": "code",
   "execution_count": 61,
   "id": "18ab7bed",
   "metadata": {},
   "outputs": [
    {
     "name": "stdout",
     "output_type": "stream",
     "text": [
      "<class 'pandas.core.frame.DataFrame'>\n",
      "RangeIndex: 24 entries, 0 to 23\n",
      "Data columns (total 2 columns):\n",
      " #   Column     Non-Null Count  Dtype \n",
      "---  ------     --------------  ----- \n",
      " 0   gender     24 non-null     object\n",
      " 1   dept_name  24 non-null     object\n",
      "dtypes: object(2)\n",
      "memory usage: 512.0+ bytes\n"
     ]
    }
   ],
   "source": [
    "df = pd.read_sql(query, url)\n",
    "df.info()"
   ]
  },
  {
   "cell_type": "code",
   "execution_count": null,
   "id": "42bde980",
   "metadata": {},
   "outputs": [],
   "source": [
    "observed = pd.crosstab(m_and_s.gender, m_and_s.dept_name)\n",
    "observed"
   ]
  }
 ],
 "metadata": {
  "kernelspec": {
   "display_name": "Python 3 (ipykernel)",
   "language": "python",
   "name": "python3"
  },
  "language_info": {
   "codemirror_mode": {
    "name": "ipython",
    "version": 3
   },
   "file_extension": ".py",
   "mimetype": "text/x-python",
   "name": "python",
   "nbconvert_exporter": "python",
   "pygments_lexer": "ipython3",
   "version": "3.9.13"
  }
 },
 "nbformat": 4,
 "nbformat_minor": 5
}
