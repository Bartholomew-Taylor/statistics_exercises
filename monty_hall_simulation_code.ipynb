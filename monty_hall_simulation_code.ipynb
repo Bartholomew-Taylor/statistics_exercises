{
 "cells": [
  {
   "cell_type": "code",
   "execution_count": 6,
   "id": "a37dc56c",
   "metadata": {},
   "outputs": [],
   "source": [
    "%matplotlib inline\n",
    "import numpy as np\n",
    "import pandas as pd\n",
    "\n",
    "\n",
    "np.random.seed(99)"
   ]
  },
  {
   "cell_type": "code",
   "execution_count": 42,
   "id": "c2ad2270",
   "metadata": {},
   "outputs": [
    {
     "data": {
      "text/plain": [
       "array([[1, 3],\n",
       "       [1, 3],\n",
       "       [1, 2],\n",
       "       ...,\n",
       "       [2, 1],\n",
       "       [2, 2],\n",
       "       [2, 3]])"
      ]
     },
     "execution_count": 42,
     "metadata": {},
     "output_type": "execute_result"
    }
   ],
   "source": [
    "nrows = 10000\n",
    "ncols = 2\n",
    "\n",
    "winning_n_choice = np.random.choice([1,2,3],nrows * ncols).reshape(nrows,ncols)\n",
    "\n",
    "winning_n_choice"
   ]
  },
  {
   "cell_type": "code",
   "execution_count": 43,
   "id": "da1a28c0",
   "metadata": {},
   "outputs": [
    {
     "data": {
      "text/plain": [
       "0.677"
      ]
     },
     "execution_count": 43,
     "metadata": {},
     "output_type": "execute_result"
    }
   ],
   "source": [
    "pd.DataFrame(winning_n_choice).apply(lambda row: len(np.unique(row.values)) == 2, axis = 1).mean()"
   ]
  },
  {
   "cell_type": "code",
   "execution_count": null,
   "id": "ece0ce98",
   "metadata": {},
   "outputs": [],
   "source": [
    "def monty_change(arreigh):\n",
    "    monty = []\n",
    "    if arreigh[1] == 1:\n",
    "        np.append(monty, np.random.)"
   ]
  },
  {
   "cell_type": "code",
   "execution_count": 44,
   "id": "083c96d8",
   "metadata": {},
   "outputs": [
    {
     "name": "stdout",
     "output_type": "stream",
     "text": [
      "Monty Hall Problem with 3 doors\n",
      "Proportion of wins without switching: 0.3236\n",
      "Proportion of wins with switching: 0.6544\n"
     ]
    }
   ],
   "source": [
    "import random\n",
    "\n",
    "def run_trial(switch_doors, ndoors=3):\n",
    "    \"\"\"\n",
    "    Run a single trial of the Monty Hall problem, with or without switching\n",
    "    after the gameshow host reveals a goat behind one of the unchosen doors.\n",
    "    (switch_doors is True or False). The car is behind door number 1 and the\n",
    "    gameshow host knows that.\n",
    "\n",
    "    \"\"\"\n",
    "\n",
    "    # Pick a random door out of the ndoors available\n",
    "    chosen_door = random.randint(1, ndoors)\n",
    "    if switch_doors:\n",
    "        # Reveal a goat\n",
    "        revealed_door = 3 if chosen_door==2 else 2\n",
    "        # Make the switch by choosing any other door than the initially-\n",
    "        # selected one and the one just opened to reveal a goat. \n",
    "        available_doors = [dnum for dnum in range(1,ndoors+1)\n",
    "                                if dnum not in (chosen_door, revealed_door)]\n",
    "        chosen_door = random.choice(available_doors)\n",
    "\n",
    "    # You win if you picked door number 1\n",
    "    return chosen_door == 1\n",
    "\n",
    "def run_trials(ntrials, switch_doors, ndoors=3):\n",
    "    \"\"\"\n",
    "    Run ntrials iterations of the Monty Hall problem with ndoors doors, with\n",
    "    and without switching (switch_doors = True or False). Returns the number\n",
    "    of trials which resulted in winning the car by picking door number 1.\n",
    "\n",
    "    \"\"\"\n",
    "\n",
    "    nwins = 0\n",
    "    for i in range(ntrials):\n",
    "        if run_trial(switch_doors, ndoors):\n",
    "            nwins += 1\n",
    "    return nwins\n",
    "\n",
    "ndoors, ntrials = 3, 10000\n",
    "nwins_without_switch = run_trials(ntrials, False, ndoors)\n",
    "nwins_with_switch = run_trials(ntrials, True, ndoors)\n",
    "\n",
    "print('Monty Hall Problem with {} doors'.format(ndoors))\n",
    "print('Proportion of wins without switching: {:.4f}'\n",
    "            .format(nwins_without_switch/ntrials))\n",
    "print('Proportion of wins with switching: {:.4f}'\n",
    "            .format(nwins_with_switch/ntrials))"
   ]
  },
  {
   "cell_type": "code",
   "execution_count": null,
   "id": "0a3a33ca",
   "metadata": {},
   "outputs": [],
   "source": []
  }
 ],
 "metadata": {
  "kernelspec": {
   "display_name": "Python 3 (ipykernel)",
   "language": "python",
   "name": "python3"
  },
  "language_info": {
   "codemirror_mode": {
    "name": "ipython",
    "version": 3
   },
   "file_extension": ".py",
   "mimetype": "text/x-python",
   "name": "python",
   "nbconvert_exporter": "python",
   "pygments_lexer": "ipython3",
   "version": "3.9.13"
  }
 },
 "nbformat": 4,
 "nbformat_minor": 5
}
