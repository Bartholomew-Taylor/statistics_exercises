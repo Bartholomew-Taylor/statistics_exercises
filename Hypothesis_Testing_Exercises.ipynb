{
 "cells": [
  {
   "cell_type": "markdown",
   "id": "a9f12450",
   "metadata": {},
   "source": [
    "Answer with the type of test you would use (assume normal distribution):\n",
    "\n",
    "Is there a difference in grades of students on the second floor compared to grades of all students?\n",
    "\n",
    "1-sample t-test\n"
   ]
  },
  {
   "cell_type": "markdown",
   "id": "d9613e4f",
   "metadata": {},
   "source": [
    "Are adults who drink milk taller than adults who dont drink milk?\n",
    "\n",
    "ttest.ind 2 sample independent 1-tail"
   ]
  },
  {
   "cell_type": "markdown",
   "id": "07a476e2",
   "metadata": {},
   "source": [
    "Is the the price of gas higher in texas or in new mexico?\n",
    "\n",
    "ttest.ind 2 sample independent 1-tail"
   ]
  },
  {
   "cell_type": "markdown",
   "id": "bfc38b14",
   "metadata": {},
   "source": [
    "Are there differences in stress levels between students who take data science vs students who take web development vs students who take cloud academy?\n",
    "\n",
    "stats.f_oneway ANOVA but I would first use stats.levene to check for variance eqivilance"
   ]
  },
  {
   "cell_type": "markdown",
   "id": "1b8a405d",
   "metadata": {},
   "source": [
    "Load the mpg dataset and use it to answer the following questions:"
   ]
  },
  {
   "cell_type": "code",
   "execution_count": 82,
   "id": "f115c736",
   "metadata": {},
   "outputs": [],
   "source": [
    "import pandas as pd\n",
    "import matplotlib.pyplot as plt\n",
    "import scipy.stats as stats\n",
    "import seaborn as sns\n",
    "import env\n",
    "import numpy as np\n",
    "from pydataset import data\n",
    "\n",
    "mpg = data('mpg')"
   ]
  },
  {
   "cell_type": "code",
   "execution_count": 83,
   "id": "b687da0e",
   "metadata": {},
   "outputs": [
    {
     "data": {
      "text/html": [
       "<div>\n",
       "<style scoped>\n",
       "    .dataframe tbody tr th:only-of-type {\n",
       "        vertical-align: middle;\n",
       "    }\n",
       "\n",
       "    .dataframe tbody tr th {\n",
       "        vertical-align: top;\n",
       "    }\n",
       "\n",
       "    .dataframe thead th {\n",
       "        text-align: right;\n",
       "    }\n",
       "</style>\n",
       "<table border=\"1\" class=\"dataframe\">\n",
       "  <thead>\n",
       "    <tr style=\"text-align: right;\">\n",
       "      <th></th>\n",
       "      <th>manufacturer</th>\n",
       "      <th>model</th>\n",
       "      <th>displ</th>\n",
       "      <th>year</th>\n",
       "      <th>cyl</th>\n",
       "      <th>trans</th>\n",
       "      <th>drv</th>\n",
       "      <th>cty</th>\n",
       "      <th>hwy</th>\n",
       "      <th>fl</th>\n",
       "      <th>class</th>\n",
       "    </tr>\n",
       "  </thead>\n",
       "  <tbody>\n",
       "    <tr>\n",
       "      <th>1</th>\n",
       "      <td>audi</td>\n",
       "      <td>a4</td>\n",
       "      <td>1.8</td>\n",
       "      <td>1999</td>\n",
       "      <td>4</td>\n",
       "      <td>auto(l5)</td>\n",
       "      <td>f</td>\n",
       "      <td>18</td>\n",
       "      <td>29</td>\n",
       "      <td>p</td>\n",
       "      <td>compact</td>\n",
       "    </tr>\n",
       "    <tr>\n",
       "      <th>2</th>\n",
       "      <td>audi</td>\n",
       "      <td>a4</td>\n",
       "      <td>1.8</td>\n",
       "      <td>1999</td>\n",
       "      <td>4</td>\n",
       "      <td>manual(m5)</td>\n",
       "      <td>f</td>\n",
       "      <td>21</td>\n",
       "      <td>29</td>\n",
       "      <td>p</td>\n",
       "      <td>compact</td>\n",
       "    </tr>\n",
       "    <tr>\n",
       "      <th>3</th>\n",
       "      <td>audi</td>\n",
       "      <td>a4</td>\n",
       "      <td>2.0</td>\n",
       "      <td>2008</td>\n",
       "      <td>4</td>\n",
       "      <td>manual(m6)</td>\n",
       "      <td>f</td>\n",
       "      <td>20</td>\n",
       "      <td>31</td>\n",
       "      <td>p</td>\n",
       "      <td>compact</td>\n",
       "    </tr>\n",
       "    <tr>\n",
       "      <th>4</th>\n",
       "      <td>audi</td>\n",
       "      <td>a4</td>\n",
       "      <td>2.0</td>\n",
       "      <td>2008</td>\n",
       "      <td>4</td>\n",
       "      <td>auto(av)</td>\n",
       "      <td>f</td>\n",
       "      <td>21</td>\n",
       "      <td>30</td>\n",
       "      <td>p</td>\n",
       "      <td>compact</td>\n",
       "    </tr>\n",
       "    <tr>\n",
       "      <th>5</th>\n",
       "      <td>audi</td>\n",
       "      <td>a4</td>\n",
       "      <td>2.8</td>\n",
       "      <td>1999</td>\n",
       "      <td>6</td>\n",
       "      <td>auto(l5)</td>\n",
       "      <td>f</td>\n",
       "      <td>16</td>\n",
       "      <td>26</td>\n",
       "      <td>p</td>\n",
       "      <td>compact</td>\n",
       "    </tr>\n",
       "  </tbody>\n",
       "</table>\n",
       "</div>"
      ],
      "text/plain": [
       "  manufacturer model  displ  year  cyl       trans drv  cty  hwy fl    class\n",
       "1         audi    a4    1.8  1999    4    auto(l5)   f   18   29  p  compact\n",
       "2         audi    a4    1.8  1999    4  manual(m5)   f   21   29  p  compact\n",
       "3         audi    a4    2.0  2008    4  manual(m6)   f   20   31  p  compact\n",
       "4         audi    a4    2.0  2008    4    auto(av)   f   21   30  p  compact\n",
       "5         audi    a4    2.8  1999    6    auto(l5)   f   16   26  p  compact"
      ]
     },
     "execution_count": 83,
     "metadata": {},
     "output_type": "execute_result"
    }
   ],
   "source": [
    "mpg.head()"
   ]
  },
  {
   "cell_type": "markdown",
   "id": "01f0a77f",
   "metadata": {},
   "source": [
    "Is there a difference in fuel-efficiency in cars from 2008 vs 1999?"
   ]
  },
  {
   "cell_type": "code",
   "execution_count": 84,
   "id": "70c07da9",
   "metadata": {},
   "outputs": [],
   "source": [
    "two_008_cty = mpg[mpg.year == 2008].cty\n",
    "two_008_hwy = mpg[mpg.year == 2008].hwy\n",
    "\n",
    "one_999_hwy = mpg[mpg.year == 1999].hwy\n",
    "one_999_cty = mpg[mpg.year == 1999].cty\n",
    "\n",
    "α = 0.05"
   ]
  },
  {
   "cell_type": "code",
   "execution_count": 91,
   "id": "26aaf365",
   "metadata": {},
   "outputs": [],
   "source": [
    "two_008 = (two_008_cty + two_008_hwy)/2\n",
    "one_999 = (one_999_hwy + one_999_cty)/2\n"
   ]
  },
  {
   "cell_type": "code",
   "execution_count": 86,
   "id": "d31e78d7",
   "metadata": {},
   "outputs": [
    {
     "data": {
      "text/plain": [
       "20.076923076923077"
      ]
     },
     "execution_count": 86,
     "metadata": {},
     "output_type": "execute_result"
    }
   ],
   "source": [
    "two_008.mean()"
   ]
  },
  {
   "cell_type": "code",
   "execution_count": 87,
   "id": "96e99ae0",
   "metadata": {},
   "outputs": [
    {
     "data": {
      "text/plain": [
       "20.22222222222222"
      ]
     },
     "execution_count": 87,
     "metadata": {},
     "output_type": "execute_result"
    }
   ],
   "source": [
    "one_999.mean()"
   ]
  },
  {
   "cell_type": "code",
   "execution_count": 95,
   "id": "b94da498",
   "metadata": {},
   "outputs": [
    {
     "name": "stdout",
     "output_type": "stream",
     "text": [
      "-0.21960177245940962\n",
      "0.8263750772060638\n",
      "Null hypothesis is not rejected\n"
     ]
    }
   ],
   "source": [
    "# H0: there is no diff in fuel-efficiency between the two year models\n",
    "# H0: there is a significant differenct between the two year models\n",
    "\n",
    "t, p = stats.ttest_ind(two_008, one_999, equal_var = False)\n",
    "print(t)\n",
    "print(p)\n",
    "if p <= α:\n",
    "    print(\"Null hypothesis is not supported\")\n",
    "else:\n",
    "    print(\"Null hypothesis is not rejected\")"
   ]
  },
  {
   "cell_type": "markdown",
   "id": "742cb10d",
   "metadata": {},
   "source": [
    "Are compact cars more fuel-efficient than the average car?"
   ]
  },
  {
   "cell_type": "code",
   "execution_count": 73,
   "id": "236d1158",
   "metadata": {},
   "outputs": [],
   "source": [
    "mpg.rename(columns={'class': 'clss'}, inplace = True)\n",
    "mpg['hwy_and_cty'] = ((mpg.hwy) + (mpg.cty))/2\n"
   ]
  },
  {
   "cell_type": "code",
   "execution_count": 74,
   "id": "8c4aacf7",
   "metadata": {
    "scrolled": true
   },
   "outputs": [
    {
     "name": "stdout",
     "output_type": "stream",
     "text": [
      "24.21276595744681\n",
      "20.14957264957265\n"
     ]
    }
   ],
   "source": [
    "compct = mpg[mpg.clss == 'compact'].hwy_and_cty\n",
    "print(compct.mean())\n",
    "overall = mpg.hwy_and_cty.mean()\n",
    "print(overall)"
   ]
  },
  {
   "cell_type": "code",
   "execution_count": 92,
   "id": "554d1111",
   "metadata": {},
   "outputs": [
    {
     "name": "stdout",
     "output_type": "stream",
     "text": [
      "7.896888573132533\n",
      "4.1985637943171486e-10\n",
      "We reject H0\n"
     ]
    }
   ],
   "source": [
    "#H0: There is no diff in fuel efficiency between compacts and the overall average\n",
    "#HA: compact cars are more efficient than the overall average\n",
    "t, p = stats.ttest_1samp(compct, overall)\n",
    "print(t)\n",
    "print(p)\n",
    "if p/2 > α:\n",
    "    print(\"We fail to reject H0\")\n",
    "elif t < 0:\n",
    "    print(\"We fail to reject H0\")\n",
    "else:\n",
    "    print(\"We reject H0\")\n"
   ]
  },
  {
   "cell_type": "markdown",
   "id": "6f714069",
   "metadata": {},
   "source": [
    "Do manual cars get better gas mileage than automatic cars?"
   ]
  },
  {
   "cell_type": "code",
   "execution_count": 78,
   "id": "c8a1f470",
   "metadata": {},
   "outputs": [
    {
     "name": "stdout",
     "output_type": "stream",
     "text": [
      "19.130573248407643\n",
      "22.227272727272727\n"
     ]
    }
   ],
   "source": [
    "autom = mpg[mpg['trans'].str.contains('auto')]\n",
    "manu = mpg[mpg['trans'].str.contains('manu')]\n",
    "print(autom.hwy_and_cty.mean())\n",
    "print(manu.hwy_and_cty.mean())"
   ]
  },
  {
   "cell_type": "code",
   "execution_count": null,
   "id": "e2a9abc6",
   "metadata": {},
   "outputs": [],
   "source": [
    "autom_only = autom.hwy_and_cty\n",
    "manu_only = manu.hwy_and_cty"
   ]
  },
  {
   "cell_type": "code",
   "execution_count": 77,
   "id": "6b74264b",
   "metadata": {},
   "outputs": [],
   "source": [
    "#H0: Manual transmission vehicles do not get better mileage than automatic transmission\n",
    "#HA: Manual transmission vehicles do get better mileage than automatic transmission"
   ]
  },
  {
   "cell_type": "code",
   "execution_count": 80,
   "id": "6f902474",
   "metadata": {},
   "outputs": [
    {
     "name": "stdout",
     "output_type": "stream",
     "text": [
      "4.443514012903072\n",
      "1.7952248999917893e-05\n"
     ]
    }
   ],
   "source": [
    "t, p = stats.ttest_ind(manu_only , autom_only , equal_var = False)\n",
    "print(t)\n",
    "print(p)"
   ]
  },
  {
   "cell_type": "code",
   "execution_count": 81,
   "id": "e2b7460c",
   "metadata": {},
   "outputs": [
    {
     "name": "stdout",
     "output_type": "stream",
     "text": [
      "We reject H0\n"
     ]
    }
   ],
   "source": [
    "if p/2 > α:\n",
    "    print(\"We fail to reject H0\")\n",
    "elif t < 0:\n",
    "    print(\"We fail to reject H0\")\n",
    "else:\n",
    "    print(\"We reject H0\")"
   ]
  },
  {
   "cell_type": "code",
   "execution_count": null,
   "id": "38aa8083",
   "metadata": {},
   "outputs": [],
   "source": []
  }
 ],
 "metadata": {
  "kernelspec": {
   "display_name": "Python 3 (ipykernel)",
   "language": "python",
   "name": "python3"
  },
  "language_info": {
   "codemirror_mode": {
    "name": "ipython",
    "version": 3
   },
   "file_extension": ".py",
   "mimetype": "text/x-python",
   "name": "python",
   "nbconvert_exporter": "python",
   "pygments_lexer": "ipython3",
   "version": "3.9.13"
  }
 },
 "nbformat": 4,
 "nbformat_minor": 5
}
