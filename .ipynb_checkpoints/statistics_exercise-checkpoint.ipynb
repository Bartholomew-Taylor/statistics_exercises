{
 "cells": [
  {
   "cell_type": "code",
   "execution_count": 4,
   "id": "761104d4",
   "metadata": {},
   "outputs": [],
   "source": [
    "%matplotlib inline\n",
    "import numpy as np\n",
    "import pandas as pd\n",
    "\n",
    "import viz # curriculum example visualizations\n",
    "\n",
    "np.random.seed(99)"
   ]
  },
  {
   "cell_type": "markdown",
   "id": "f4da7786",
   "metadata": {},
   "source": [
    "How likely is it that you roll doubles when rolling two dice?\n"
   ]
  },
  {
   "cell_type": "code",
   "execution_count": 19,
   "id": "63178086",
   "metadata": {},
   "outputs": [
    {
     "data": {
      "text/plain": [
       "0.1644"
      ]
     },
     "execution_count": 19,
     "metadata": {},
     "output_type": "execute_result"
    }
   ],
   "source": [
    "n_simulations = nrows = 10**5\n",
    "\n",
    "n_dice_rolled = ncols = 2\n",
    "\n",
    "rolls = np.random.choice([1,2,3,4,5,6], nrows * ncols).reshape(nrows,ncols)\n",
    "\n",
    "dupes = (np.diff(rolls) == 0)\n",
    "dupes.mean()"
   ]
  },
  {
   "cell_type": "markdown",
   "id": "a63c2811",
   "metadata": {},
   "source": [
    "If you flip 8 coins, what is the probability of getting exactly 3 heads? What is the probability of getting more than 3 heads?\n",
    "\n"
   ]
  },
  {
   "cell_type": "code",
   "execution_count": 31,
   "id": "5508f7a0",
   "metadata": {},
   "outputs": [
    {
     "data": {
      "text/plain": [
       "0.22061"
      ]
     },
     "execution_count": 31,
     "metadata": {},
     "output_type": "execute_result"
    }
   ],
   "source": [
    "n_simulations = nrows = 10**5\n",
    "\n",
    "n_coins_flips = ncols = 8\n",
    "\n",
    "flips = np.random.choice([0,1], nrows * ncols).reshape(nrows,ncols)\n",
    "pd.DataFrame(flips).apply(lambda row: row.values.sum() == 3, axis = 1).mean()"
   ]
  },
  {
   "cell_type": "code",
   "execution_count": 30,
   "id": "fff24d3f",
   "metadata": {},
   "outputs": [
    {
     "data": {
      "text/plain": [
       "0.63638"
      ]
     },
     "execution_count": 30,
     "metadata": {},
     "output_type": "execute_result"
    }
   ],
   "source": [
    "pd.DataFrame(flips).apply(lambda row: row.values.sum() > 3, axis = 1).mean()"
   ]
  },
  {
   "cell_type": "markdown",
   "id": "20627df6",
   "metadata": {},
   "source": [
    "There are approximitely 3 web development cohorts for every 1 data science cohort at Codeup. Assuming that Codeup randomly selects an alumni to put on a billboard, what are the odds that the two billboards I drive past both have data science students on them?\n",
    "\n"
   ]
  },
  {
   "cell_type": "code",
   "execution_count": 37,
   "id": "a07ae67e",
   "metadata": {},
   "outputs": [
    {
     "data": {
      "text/plain": [
       "0.06217"
      ]
     },
     "execution_count": 37,
     "metadata": {},
     "output_type": "execute_result"
    }
   ],
   "source": [
    "n_runs = nrows = 10**5\n",
    "\n",
    "n_select = ncols = 2\n",
    "\n",
    "billboard= np.random.choice([0,0,0,1], nrows * ncols).reshape(nrows,ncols)\n",
    "pd.DataFrame(billboard).apply(lambda row: row.values.sum() == 2, axis = 1).mean()"
   ]
  },
  {
   "cell_type": "markdown",
   "id": "e193beef",
   "metadata": {},
   "source": [
    "Codeup students buy, on average, 3 poptart packages with a standard deviation of 1.5 a day from the snack vending machine. If on monday the machine is restocked with 17 poptart packages, how likely is it that I will be able to buy some poptarts on Friday afternoon? (Remember, if you have mean and standard deviation, use the np.random.normal) You'll need to make a judgement call on how to handle some of your values\n",
    "\n"
   ]
  },
  {
   "cell_type": "code",
   "execution_count": 51,
   "id": "a8d1f2fa",
   "metadata": {},
   "outputs": [
    {
     "data": {
      "text/plain": [
       "0.98753"
      ]
     },
     "execution_count": 51,
     "metadata": {},
     "output_type": "execute_result"
    }
   ],
   "source": [
    "n_runs = nrows = 10**5\n",
    "n_bought_range = ncols = 4\n",
    "\n",
    "num_bought = np.random.choice([3,4.5,1.5], nrows * ncols).reshape(nrows,ncols)\n",
    "\n",
    "pd.DataFrame(num_bought).apply(lambda row: row.values.sum() < 17, axis = 1).mean()"
   ]
  },
  {
   "cell_type": "markdown",
   "id": "9c0d2779",
   "metadata": {},
   "source": [
    "Compare Heights\n",
    "\n",
    "Men have an average height of 178 cm and standard deviation of 8cm.\n",
    "Women have a mean of 170, sd = 6cm.\n",
    "Since you have means and standard deviations, you can use np.random.normal to generate observations.\n",
    "If a man and woman are chosen at random, what is the likelihood the woman is taller than the man?\n",
    "When installing anaconda on a student's computer, there's a 1 in 250 chance that the download is corrupted and the installation fails. What are the odds that after having 50 students download anaconda, no one has an installation issue? 100 students?\n",
    "\n"
   ]
  },
  {
   "cell_type": "code",
   "execution_count": null,
   "id": "2a4fe25a",
   "metadata": {},
   "outputs": [],
   "source": []
  },
  {
   "cell_type": "markdown",
   "id": "83229514",
   "metadata": {},
   "source": [
    "What is the probability that we observe an installation issue within the first 150 students that download anaconda?\n",
    "\n"
   ]
  },
  {
   "cell_type": "code",
   "execution_count": null,
   "id": "a2bb454e",
   "metadata": {},
   "outputs": [],
   "source": []
  },
  {
   "cell_type": "markdown",
   "id": "f30e6d35",
   "metadata": {},
   "source": [
    "How likely is it that 450 students all download anaconda without an issue?"
   ]
  },
  {
   "cell_type": "code",
   "execution_count": null,
   "id": "1c3752a1",
   "metadata": {},
   "outputs": [],
   "source": []
  },
  {
   "cell_type": "markdown",
   "id": "1f4b34e3",
   "metadata": {},
   "source": [
    "There's a 70% chance on any given day that there will be at least one food truck at Travis Park. However, you haven't seen a food truck there in 3 days. How unlikely is this?\n",
    "\n"
   ]
  },
  {
   "cell_type": "code",
   "execution_count": null,
   "id": "8473cbcc",
   "metadata": {},
   "outputs": [],
   "source": []
  },
  {
   "cell_type": "markdown",
   "id": "7891479a",
   "metadata": {},
   "source": [
    "How likely is it that a food truck will show up sometime this week?"
   ]
  },
  {
   "cell_type": "code",
   "execution_count": null,
   "id": "3744575a",
   "metadata": {},
   "outputs": [],
   "source": []
  },
  {
   "cell_type": "markdown",
   "id": "f548d4d5",
   "metadata": {},
   "source": [
    "If 23 people are in the same room, what are the odds that two of them share a birthday? What if it's 20 people? 40?"
   ]
  },
  {
   "cell_type": "code",
   "execution_count": null,
   "id": "9a664911",
   "metadata": {},
   "outputs": [],
   "source": []
  }
 ],
 "metadata": {
  "kernelspec": {
   "display_name": "Python 3 (ipykernel)",
   "language": "python",
   "name": "python3"
  },
  "language_info": {
   "codemirror_mode": {
    "name": "ipython",
    "version": 3
   },
   "file_extension": ".py",
   "mimetype": "text/x-python",
   "name": "python",
   "nbconvert_exporter": "python",
   "pygments_lexer": "ipython3",
   "version": "3.9.13"
  }
 },
 "nbformat": 4,
 "nbformat_minor": 5
}
