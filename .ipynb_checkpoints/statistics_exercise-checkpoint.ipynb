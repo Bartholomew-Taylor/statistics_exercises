{
 "cells": [
  {
   "cell_type": "code",
   "execution_count": 4,
   "id": "aa262f40",
   "metadata": {},
   "outputs": [],
   "source": [
    "%matplotlib inline\n",
    "import numpy as np\n",
    "import pandas as pd\n",
    "\n",
    "import viz # curriculum example visualizations\n",
    "\n",
    "np.random.seed(99)"
   ]
  },
  {
   "cell_type": "markdown",
   "id": "b7e800d1",
   "metadata": {},
   "source": [
    "How likely is it that you roll doubles when rolling two dice?\n"
   ]
  },
  {
   "cell_type": "code",
   "execution_count": 19,
   "id": "c8bf6a47",
   "metadata": {},
   "outputs": [
    {
     "data": {
      "text/plain": [
       "0.1644"
      ]
     },
     "execution_count": 19,
     "metadata": {},
     "output_type": "execute_result"
    }
   ],
   "source": [
    "n_simulations = nrows = 10**5\n",
    "\n",
    "n_dice_rolled = ncols = 2\n",
    "\n",
    "rolls = np.random.choice([1,2,3,4,5,6], nrows * ncols).reshape(nrows,ncols)\n",
    "\n",
    "dupes = (np.diff(rolls) == 0)\n",
    "dupes.mean()"
   ]
  },
  {
   "cell_type": "markdown",
   "id": "891f718c",
   "metadata": {},
   "source": [
    "If you flip 8 coins, what is the probability of getting exactly 3 heads? What is the probability of getting more than 3 heads?\n",
    "\n"
   ]
  },
  {
   "cell_type": "code",
   "execution_count": 31,
   "id": "402194ab",
   "metadata": {},
   "outputs": [
    {
     "data": {
      "text/plain": [
       "0.22061"
      ]
     },
     "execution_count": 31,
     "metadata": {},
     "output_type": "execute_result"
    }
   ],
   "source": [
    "n_simulations = nrows = 10**5\n",
    "\n",
    "n_coins_flips = ncols = 8\n",
    "\n",
    "flips = np.random.choice([0,1], nrows * ncols).reshape(nrows,ncols)\n",
    "pd.DataFrame(flips).apply(lambda row: row.values.sum() == 3, axis = 1).mean()"
   ]
  },
  {
   "cell_type": "code",
   "execution_count": 30,
   "id": "e2eb4694",
   "metadata": {},
   "outputs": [
    {
     "data": {
      "text/plain": [
       "0.63638"
      ]
     },
     "execution_count": 30,
     "metadata": {},
     "output_type": "execute_result"
    }
   ],
   "source": [
    "pd.DataFrame(flips).apply(lambda row: row.values.sum() > 3, axis = 1).mean()"
   ]
  },
  {
   "cell_type": "markdown",
   "id": "ead1f039",
   "metadata": {},
   "source": [
    "There are approximitely 3 web development cohorts for every 1 data science cohort at Codeup. Assuming that Codeup randomly selects an alumni to put on a billboard, what are the odds that the two billboards I drive past both have data science students on them?\n",
    "\n"
   ]
  },
  {
   "cell_type": "code",
   "execution_count": 37,
   "id": "aeb1c369",
   "metadata": {},
   "outputs": [
    {
     "data": {
      "text/plain": [
       "0.06217"
      ]
     },
     "execution_count": 37,
     "metadata": {},
     "output_type": "execute_result"
    }
   ],
   "source": [
    "n_runs = nrows = 10**5\n",
    "\n",
    "n_select = ncols = 2\n",
    "\n",
    "billboard= np.random.choice([0,0,0,1], nrows * ncols).reshape(nrows,ncols)\n",
    "pd.DataFrame(billboard).apply(lambda row: row.values.sum() == 2, axis = 1).mean()"
   ]
  },
  {
   "cell_type": "markdown",
   "id": "29d3213d",
   "metadata": {},
   "source": [
    "Codeup students buy, on average, 3 poptart packages with a standard deviation of 1.5 a day from the snack vending machine. If on monday the machine is restocked with 17 poptart packages, how likely is it that I will be able to buy some poptarts on Friday afternoon? (Remember, if you have mean and standard deviation, use the np.random.normal) You'll need to make a judgement call on how to handle some of your values\n",
    "\n"
   ]
  },
  {
   "cell_type": "code",
   "execution_count": 54,
   "id": "1766e3a5",
   "metadata": {},
   "outputs": [
    {
     "data": {
      "text/plain": [
       "0.9546"
      ]
     },
     "execution_count": 54,
     "metadata": {},
     "output_type": "execute_result"
    }
   ],
   "source": [
    "n_runs = nrows = 10**5\n",
    "n_bought_range = ncols = 4\n",
    "\n",
    "num_bought = np.random.normal(3,1.5, size = (10000, 4))\n",
    "\n",
    "pd.DataFrame(num_bought).apply(lambda row: row.values.sum() < 17, axis = 1).mean()"
   ]
  },
  {
   "cell_type": "markdown",
   "id": "bedb1c1a",
   "metadata": {},
   "source": [
    "Compare Heights\n",
    "\n",
    "Men have an average height of 178 cm and standard deviation of 8cm.\n",
    "Women have a mean of 170, sd = 6cm.\n",
    "Since you have means and standard deviations, you can use np.random.normal to generate observations.\n",
    "If a man and woman are chosen at random, what is the likelihood the woman is taller than the man?"
   ]
  },
  {
   "cell_type": "code",
   "execution_count": 90,
   "id": "8fbcc676",
   "metadata": {},
   "outputs": [],
   "source": [
    "woman_ht = np.random.normal(170,8, size = (10000, 1))\n",
    "man_ht = np.random.normal(178,6, size = (10000, 1))"
   ]
  },
  {
   "cell_type": "code",
   "execution_count": 91,
   "id": "9ed0a37c",
   "metadata": {},
   "outputs": [
    {
     "data": {
      "text/plain": [
       "0.2171"
      ]
     },
     "execution_count": 91,
     "metadata": {},
     "output_type": "execute_result"
    }
   ],
   "source": [
    "ht_chart = np.concatenate((woman_ht, man_ht), axis = 1)\n",
    "\n",
    "def row_ht_chk(arreigh):\n",
    "    counter_men = 0\n",
    "    counter_women = 0\n",
    "    for n in arreigh:\n",
    "        if n[0]> n[1]:\n",
    "            counter_women += 1\n",
    "        else:\n",
    "            counter_men += 1\n",
    "    return counter_women/len(arreigh)\n",
    "\n",
    "row_ht_chk(ht_chart)"
   ]
  },
  {
   "cell_type": "markdown",
   "id": "4dafcefa",
   "metadata": {},
   "source": [
    "When installing anaconda on a student's computer, there's a 1 in 250 chance that the download is corrupted and the installation fails. What are the odds that after having 50 students download anaconda, no one has an installation issue? "
   ]
  },
  {
   "cell_type": "code",
   "execution_count": 106,
   "id": "bc5c59e5",
   "metadata": {},
   "outputs": [
    {
     "data": {
      "text/plain": [
       "0.8006"
      ]
     },
     "execution_count": 106,
     "metadata": {},
     "output_type": "execute_result"
    }
   ],
   "source": [
    "nrows = 10000\n",
    "ncols = 50\n",
    "\n",
    "install_suc = np.random.choice([1,0,0,0,0,0,0,0,0,0,0,0,0,0,0,0,0,0,0,\n",
    "                                0,0,0,0,0,0,0,0,0,0,0,0,0,0,0,0,0,0,0,0,0,0,0,0,0,0,0,\n",
    "                                0,0,0,0,0,0,0,0,0,0,0,0,0,0,0,0,0,0,0,0,0,0,0,0,0,0,0,0,\n",
    "                                0,0,0,0,0,0,0,0,0,0,0,0,0,0,0,0,0,0,0,0,0,0,0,0,0,0,0,0,0,0,\n",
    "                                0,0,0,0,0,0,0,0,0,0,0,0,0,0,0,0,0,0,0,0,0,0,0,0,0,0,0,0,0,0,0,0,\n",
    "                                0,0,0,0,0,0,0,0,0,0,0,0,0,0,0,0,0,0,0,0,0,0,0,0,0,0,0,0,0,0,0,0,0,\n",
    "                                0,0,0,0,0,0,0,0,0,0,0,0,0,0,0,0,0,0,0,0,0,0,0,0,0,0,0,0,0,0,0,0,\n",
    "                                0,0,0,0,0,0,0,0,0,0,0,0,0,0,0,0,0,0,\n",
    "                                0,0,0,0,0,0,0],nrows * ncols).reshape(nrows,ncols)\n",
    "\n",
    "pd.DataFrame(install_suc).apply(lambda row: row.values.sum() == 0, axis = 1).mean()"
   ]
  },
  {
   "cell_type": "markdown",
   "id": "e5be0b68",
   "metadata": {},
   "source": [
    "100 students?"
   ]
  },
  {
   "cell_type": "code",
   "execution_count": 107,
   "id": "4a452c80",
   "metadata": {},
   "outputs": [
    {
     "data": {
      "text/plain": [
       "0.6472"
      ]
     },
     "execution_count": 107,
     "metadata": {},
     "output_type": "execute_result"
    }
   ],
   "source": [
    "nrows = 10000\n",
    "ncols = 100\n",
    "\n",
    "install_suc = np.random.choice([1,0,0,0,0,0,0,0,0,0,0,0,0,0,0,0,0,0,0,\n",
    "                                0,0,0,0,0,0,0,0,0,0,0,0,0,0,0,0,0,0,0,0,0,0,0,0,0,0,0,\n",
    "                                0,0,0,0,0,0,0,0,0,0,0,0,0,0,0,0,0,0,0,0,0,0,0,0,0,0,0,0,\n",
    "                                0,0,0,0,0,0,0,0,0,0,0,0,0,0,0,0,0,0,0,0,0,0,0,0,0,0,0,0,0,0,\n",
    "                                0,0,0,0,0,0,0,0,0,0,0,0,0,0,0,0,0,0,0,0,0,0,0,0,0,0,0,0,0,0,0,0,\n",
    "                                0,0,0,0,0,0,0,0,0,0,0,0,0,0,0,0,0,0,0,0,0,0,0,0,0,0,0,0,0,0,0,0,0,\n",
    "                                0,0,0,0,0,0,0,0,0,0,0,0,0,0,0,0,0,0,0,0,0,0,0,0,0,0,0,0,0,0,0,0,\n",
    "                                0,0,0,0,0,0,0,0,0,0,0,0,0,0,0,0,0,0,0,0,\n",
    "                                0,0,0,0,0],nrows * ncols).reshape(nrows,ncols)\n",
    "\n",
    "pd.DataFrame(install_suc).apply(lambda row: row.values.sum() == 0, axis = 1).mean()\n"
   ]
  },
  {
   "cell_type": "markdown",
   "id": "977f7231",
   "metadata": {},
   "source": [
    "What is the probability that we observe an installation issue within the first 150 students that download anaconda?\n",
    "\n"
   ]
  },
  {
   "cell_type": "code",
   "execution_count": 109,
   "id": "37a137d1",
   "metadata": {},
   "outputs": [
    {
     "data": {
      "text/plain": [
       "0.4854"
      ]
     },
     "execution_count": 109,
     "metadata": {},
     "output_type": "execute_result"
    }
   ],
   "source": [
    "nrows = 10000\n",
    "ncols = 150\n",
    "\n",
    "install_suc = np.random.choice([1,0,0,0,0,0,0,0,0,0,0,0,0,0,0,0,0,0,0,\n",
    "                                0,0,0,0,0,0,0,0,0,0,0,0,0,0,0,0,0,0,0,0,0,0,0,0,0,0,0,\n",
    "                                0,0,0,0,0,0,0,0,0,0,0,0,0,0,0,0,0,0,0,0,0,0,0,0,0,0,0,0,\n",
    "                                0,0,0,0,0,0,0,0,0,0,0,0,0,0,0,0,0,0,0,0,0,0,0,0,0,0,0,0,0,0,\n",
    "                                0,0,0,0,0,0,0,0,0,0,0,0,0,0,0,0,0,0,0,0,0,0,0,0,0,0,0,0,0,0,0,0,\n",
    "                                0,0,0,0,0,0,0,0,0,0,0,0,0,0,0,0,0,0,0,0,0,0,0,0,0,0,0,0,0,0,0,0,0,\n",
    "                                0,0,0,0,0,0,0,0,0,0,0,0,0,0,0,0,0,0,0,0,0,0,0,0,0,0,0,0,0,0,0,0,\n",
    "                                0,0,0,0,0,0,0,0,0,0,0,0,0,0,0,0,0,0,0,0,0,0,\n",
    "                                0,0,0],nrows * ncols).reshape(nrows,ncols)\n",
    "\n",
    "pd.DataFrame(install_suc).apply(lambda row: row.values.sum() >= 1, axis = 1).mean()"
   ]
  },
  {
   "cell_type": "markdown",
   "id": "e38df2f8",
   "metadata": {},
   "source": [
    "How likely is it that 450 students all download anaconda without an issue?"
   ]
  },
  {
   "cell_type": "code",
   "execution_count": 110,
   "id": "be3ae41b",
   "metadata": {},
   "outputs": [
    {
     "data": {
      "text/plain": [
       "0.1391"
      ]
     },
     "execution_count": 110,
     "metadata": {},
     "output_type": "execute_result"
    }
   ],
   "source": [
    "nrows = 10000\n",
    "ncols = 450\n",
    "\n",
    "install_suc = np.random.choice([1,0,0,0,0,0,0,0,0,0,0,0,0,0,0,0,0,0,0,\n",
    "                                0,0,0,0,0,0,0,0,0,0,0,0,0,0,0,0,0,0,0,0,0,0,0,0,0,0,0,\n",
    "                                0,0,0,0,0,0,0,0,0,0,0,0,0,0,0,0,0,0,0,0,0,0,0,0,0,0,0,0,\n",
    "                                0,0,0,0,0,0,0,0,0,0,0,0,0,0,0,0,0,0,0,0,0,0,0,0,0,0,0,0,0,0,\n",
    "                                0,0,0,0,0,0,0,0,0,0,0,0,0,0,0,0,0,0,0,0,0,0,0,0,0,0,0,0,0,0,0,0,\n",
    "                                0,0,0,0,0,0,0,0,0,0,0,0,0,0,0,0,0,0,0,0,0,0,0,0,0,0,0,0,0,0,0,0,0,\n",
    "                                0,0,0,0,0,0,0,0,0,0,0,0,0,0,0,0,0,0,0,0,0,0,0,0,0,0,0,0,0,0,0,0,\n",
    "                                0,0,0,0,0,0,0,0,0,0,0,0,0,0,0,0,0,0,0,0,0,0,\n",
    "                                0,0,0],nrows * ncols).reshape(nrows,ncols)\n",
    "\n",
    "pd.DataFrame(install_suc).apply(lambda row: row.values.sum() == 0, axis = 1).mean()"
   ]
  },
  {
   "cell_type": "markdown",
   "id": "ea5e19d2",
   "metadata": {},
   "source": [
    "There's a 70% chance on any given day that there will be at least one food truck at Travis Park. However, you haven't seen a food truck there in 3 days. How unlikely is this?\n",
    "\n"
   ]
  },
  {
   "cell_type": "code",
   "execution_count": 112,
   "id": "94738b5c",
   "metadata": {},
   "outputs": [
    {
     "data": {
      "text/plain": [
       "0.02668"
      ]
     },
     "execution_count": 112,
     "metadata": {},
     "output_type": "execute_result"
    }
   ],
   "source": [
    "nrows = 10**5\n",
    "ncols = 3\n",
    "\n",
    "food_truk = np.random.choice([1,1,1,1,1,1,1,0,0,0],nrows * ncols).reshape(nrows,ncols)\n",
    "\n",
    "pd.DataFrame(food_truk).apply(lambda row: row.values.sum() == 0, axis = 1).mean()"
   ]
  },
  {
   "cell_type": "markdown",
   "id": "311e7093",
   "metadata": {},
   "source": [
    "How likely is it that a food truck will show up sometime this week?"
   ]
  },
  {
   "cell_type": "code",
   "execution_count": 113,
   "id": "bad6017b",
   "metadata": {},
   "outputs": [
    {
     "data": {
      "text/plain": [
       "0.9998"
      ]
     },
     "execution_count": 113,
     "metadata": {},
     "output_type": "execute_result"
    }
   ],
   "source": [
    "nrows = 10**5\n",
    "ncols = 7\n",
    "\n",
    "food_truk = np.random.choice([1,1,1,1,1,1,1,0,0,0],nrows * ncols).reshape(nrows,ncols)\n",
    "\n",
    "pd.DataFrame(food_truk).apply(lambda row: row.values.sum() >= 1, axis = 1).mean()"
   ]
  },
  {
   "cell_type": "markdown",
   "id": "f83266f4",
   "metadata": {},
   "source": [
    "If 23 people are in the same room, what are the odds that two of them share a birthday? "
   ]
  },
  {
   "cell_type": "code",
   "execution_count": 172,
   "id": "14541c70",
   "metadata": {},
   "outputs": [
    {
     "data": {
      "text/plain": [
       "0.55"
      ]
     },
     "execution_count": 172,
     "metadata": {},
     "output_type": "execute_result"
    }
   ],
   "source": [
    "year = np.arange(1,366)\n",
    "nrows = 100\n",
    "ncols = 23\n",
    "\n",
    "birf_date = np.random.choice(year,nrows * ncols).reshape(nrows,ncols)\n",
    "\n",
    "pd.DataFrame(birf_date).apply(lambda row: len(np.unique(row.values)) != ncols, axis = 1).mean()\n"
   ]
  },
  {
   "cell_type": "markdown",
   "id": "fdfe2da4",
   "metadata": {},
   "source": [
    "What if it's 20 people? "
   ]
  },
  {
   "cell_type": "code",
   "execution_count": 173,
   "id": "d0330761",
   "metadata": {},
   "outputs": [
    {
     "data": {
      "text/plain": [
       "0.4192"
      ]
     },
     "execution_count": 173,
     "metadata": {},
     "output_type": "execute_result"
    }
   ],
   "source": [
    "year = np.arange(1,366)\n",
    "nrows = 10000\n",
    "ncols = 20\n",
    "\n",
    "birf_date = np.random.choice(year,nrows * ncols).reshape(nrows,ncols)\n",
    "\n",
    "pd.DataFrame(birf_date).apply(lambda row: len(np.unique(row.values)) != ncols, axis = 1).mean()\n"
   ]
  },
  {
   "cell_type": "markdown",
   "id": "8479efdc",
   "metadata": {},
   "source": [
    "40?"
   ]
  },
  {
   "cell_type": "code",
   "execution_count": 176,
   "id": "053d77ad",
   "metadata": {},
   "outputs": [
    {
     "data": {
      "text/plain": [
       "0.92"
      ]
     },
     "execution_count": 176,
     "metadata": {},
     "output_type": "execute_result"
    }
   ],
   "source": [
    "year = np.arange(1,366)\n",
    "nrows = 100\n",
    "ncols = 40\n",
    "\n",
    "birf_date = np.random.choice(year,nrows * ncols).reshape(nrows,ncols)\n",
    "\n",
    "pd.DataFrame(birf_date).apply(lambda row: len(np.unique(row.values)) != ncols, axis = 1).mean()"
   ]
  },
  {
   "cell_type": "code",
   "execution_count": null,
   "id": "0f84f51c",
   "metadata": {},
   "outputs": [],
   "source": []
  }
 ],
 "metadata": {
  "kernelspec": {
   "display_name": "Python 3 (ipykernel)",
   "language": "python",
   "name": "python3"
  },
  "language_info": {
   "codemirror_mode": {
    "name": "ipython",
    "version": 3
   },
   "file_extension": ".py",
   "mimetype": "text/x-python",
   "name": "python",
   "nbconvert_exporter": "python",
   "pygments_lexer": "ipython3",
   "version": "3.9.13"
  }
 },
 "nbformat": 4,
 "nbformat_minor": 5
}
