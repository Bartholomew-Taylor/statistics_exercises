{
 "cells": [
  {
   "cell_type": "markdown",
   "id": "23cd9baf",
   "metadata": {},
   "source": [
    "1. Has there been a significant change in network latency since changing internet providers?\n",
    "    1. Null: There is no positive change (and corporate just wants it to appear as though they are doing something about our terribly mismanaged resources and systemic obstacles to success)\n",
    "        1. False positive: other factors (like faulty hardware) interferedwith ping tests giving the appearance of significant change.\n",
    "    2. Alternate: There is a significant change in latency (as observed by 1000s of ping tests and management has delayed the inevitable French-style revolution for at least another month)"
   ]
  },
  {
   "cell_type": "markdown",
   "id": "93882191",
   "metadata": {},
   "source": [
    "2. Has the website design made a significant change in potential customer interaction and/or viewership?\n",
    "    1.  Null: There is no change (and someone’s bright idea has only wasted more resources in our dwindling startup-investor pool).\n",
    "    2. Alternate: This is a significant change (and yet again I’m short of enough reasons to leave for another job by exactly 1)."
   ]
  },
  {
   "cell_type": "markdown",
   "id": "5f1b1267",
   "metadata": {},
   "source": [
    "3. Is there a correlation between the new TV ad campaign and positive sale growth.\n",
    "    1. Null: No (no one watches TV anymore; people literally pay money to see less ads).\n",
    "    2. Alternate: Yes, there is a significant difference that can be observed through increased sales of targeted products and post purchase surveys."
   ]
  },
  {
   "cell_type": "code",
   "execution_count": null,
   "id": "5a327b4f",
   "metadata": {},
   "outputs": [],
   "source": [
    "import pandas as pd\n",
    "import matplotlib.pyplot as plt\n",
    "import scipy.stats as stats\n",
    "import seaborn as sns\n",
    "import env"
   ]
  },
  {
   "cell_type": "code",
   "execution_count": null,
   "id": "c824c957",
   "metadata": {},
   "outputs": [],
   "source": [
    "roll = "
   ]
  }
 ],
 "metadata": {
  "kernelspec": {
   "display_name": "Python 3 (ipykernel)",
   "language": "python",
   "name": "python3"
  },
  "language_info": {
   "codemirror_mode": {
    "name": "ipython",
    "version": 3
   },
   "file_extension": ".py",
   "mimetype": "text/x-python",
   "name": "python",
   "nbconvert_exporter": "python",
   "pygments_lexer": "ipython3",
   "version": "3.9.13"
  }
 },
 "nbformat": 4,
 "nbformat_minor": 5
}
