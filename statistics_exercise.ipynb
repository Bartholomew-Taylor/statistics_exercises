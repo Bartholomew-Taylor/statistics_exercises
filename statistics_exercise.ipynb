{
 "cells": [
  {
   "cell_type": "code",
   "execution_count": 4,
   "id": "56dc83a4",
   "metadata": {},
   "outputs": [],
   "source": [
    "%matplotlib inline\n",
    "import numpy as np\n",
    "import pandas as pd\n",
    "\n",
    "import viz # curriculum example visualizations\n",
    "\n",
    "np.random.seed(99)"
   ]
  },
  {
   "cell_type": "markdown",
   "id": "a3f1cf83",
   "metadata": {},
   "source": [
    "How likely is it that you roll doubles when rolling two dice?\n"
   ]
  },
  {
   "cell_type": "code",
   "execution_count": 19,
   "id": "ce62585c",
   "metadata": {},
   "outputs": [
    {
     "data": {
      "text/plain": [
       "0.1644"
      ]
     },
     "execution_count": 19,
     "metadata": {},
     "output_type": "execute_result"
    }
   ],
   "source": [
    "n_simulations = nrows = 10**5\n",
    "\n",
    "n_dice_rolled = ncols = 2\n",
    "\n",
    "rolls = np.random.choice([1,2,3,4,5,6], nrows * ncols).reshape(nrows,ncols)\n",
    "\n",
    "dupes = (np.diff(rolls) == 0)\n",
    "dupes.mean()"
   ]
  },
  {
   "cell_type": "markdown",
   "id": "5dce6b84",
   "metadata": {},
   "source": [
    "If you flip 8 coins, what is the probability of getting exactly 3 heads? What is the probability of getting more than 3 heads?\n",
    "\n"
   ]
  },
  {
   "cell_type": "code",
   "execution_count": 31,
   "id": "6b1fc48a",
   "metadata": {},
   "outputs": [
    {
     "data": {
      "text/plain": [
       "0.22061"
      ]
     },
     "execution_count": 31,
     "metadata": {},
     "output_type": "execute_result"
    }
   ],
   "source": [
    "n_simulations = nrows = 10**5\n",
    "\n",
    "n_coins_flips = ncols = 8\n",
    "\n",
    "flips = np.random.choice([0,1], nrows * ncols).reshape(nrows,ncols)\n",
    "pd.DataFrame(flips).apply(lambda row: row.values.sum() == 3, axis = 1).mean()"
   ]
  },
  {
   "cell_type": "code",
   "execution_count": 30,
   "id": "7bf2e6de",
   "metadata": {},
   "outputs": [
    {
     "data": {
      "text/plain": [
       "0.63638"
      ]
     },
     "execution_count": 30,
     "metadata": {},
     "output_type": "execute_result"
    }
   ],
   "source": [
    "pd.DataFrame(flips).apply(lambda row: row.values.sum() > 3, axis = 1).mean()"
   ]
  },
  {
   "cell_type": "markdown",
   "id": "312a8b26",
   "metadata": {},
   "source": [
    "There are approximitely 3 web development cohorts for every 1 data science cohort at Codeup. Assuming that Codeup randomly selects an alumni to put on a billboard, what are the odds that the two billboards I drive past both have data science students on them?\n",
    "\n"
   ]
  },
  {
   "cell_type": "code",
   "execution_count": 197,
   "id": "f615e992",
   "metadata": {},
   "outputs": [
    {
     "data": {
      "text/plain": [
       "0.06209"
      ]
     },
     "execution_count": 197,
     "metadata": {},
     "output_type": "execute_result"
    }
   ],
   "source": [
    "n_runs = nrows = 10**5\n",
    "\n",
    "n_select = ncols = 2\n",
    "\n",
    "billboard= np.random.choice([0,1], nrows * ncols, p = [3/4,1/4]).reshape(nrows,ncols)\n",
    "pd.DataFrame(billboard).apply(lambda row: row.values.sum() == 2, axis = 1).mean()"
   ]
  },
  {
   "cell_type": "markdown",
   "id": "9b5ec002",
   "metadata": {},
   "source": [
    "Codeup students buy, on average, 3 poptart packages with a standard deviation of 1.5 a day from the snack vending machine. If on monday the machine is restocked with 17 poptart packages, how likely is it that I will be able to buy some poptarts on Friday afternoon? (Remember, if you have mean and standard deviation, use the np.random.normal) You'll need to make a judgement call on how to handle some of your values\n",
    "\n"
   ]
  },
  {
   "cell_type": "code",
   "execution_count": 204,
   "id": "7b0f938e",
   "metadata": {},
   "outputs": [
    {
     "data": {
      "text/plain": [
       "0       False\n",
       "1       False\n",
       "2       False\n",
       "3       False\n",
       "4       False\n",
       "        ...  \n",
       "9995    False\n",
       "9996    False\n",
       "9997    False\n",
       "9998    False\n",
       "9999    False\n",
       "Length: 10000, dtype: bool"
      ]
     },
     "execution_count": 204,
     "metadata": {},
     "output_type": "execute_result"
    }
   ],
   "source": [
    "n_runs = nrows = 10**5\n",
    "n_bought_range = ncols = 7\n",
    "\n",
    "num_bought = np.random.normal(3,1.5, size = (10000, 7))\n",
    "\n",
    "\n",
    "\n",
    "pd.DataFrame(num_bought).apply(lambda row: row.values.sum() < 17, axis = 1)\n",
    "\n",
    "#review later\n"
   ]
  },
  {
   "cell_type": "markdown",
   "id": "ea3afa6b",
   "metadata": {},
   "source": [
    "Compare Heights\n",
    "\n",
    "Men have an average height of 178 cm and standard deviation of 8cm.\n",
    "Women have a mean of 170, sd = 6cm.\n",
    "Since you have means and standard deviations, you can use np.random.normal to generate observations.\n",
    "If a man and woman are chosen at random, what is the likelihood the woman is taller than the man?"
   ]
  },
  {
   "cell_type": "code",
   "execution_count": 195,
   "id": "25be67af",
   "metadata": {},
   "outputs": [],
   "source": [
    "woman_ht = np.random.normal(170,8, size = (10000, 1))\n",
    "man_ht = np.random.normal(178,6, size = (10000, 1))\n",
    "ht_chart = np.concatenate((woman_ht, man_ht), axis = 1)"
   ]
  },
  {
   "cell_type": "code",
   "execution_count": 196,
   "id": "0e868af7",
   "metadata": {},
   "outputs": [
    {
     "data": {
      "text/plain": [
       "0.2138"
      ]
     },
     "execution_count": 196,
     "metadata": {},
     "output_type": "execute_result"
    }
   ],
   "source": [
    "\n",
    "\n",
    "def row_ht_chk(arreigh):\n",
    "    counter_men = 0\n",
    "    counter_women = 0\n",
    "    for n in arreigh:\n",
    "        if n[0]> n[1]:\n",
    "            counter_women += 1\n",
    "        else:\n",
    "            counter_men += 1\n",
    "    return counter_women/len(arreigh)\n",
    "\n",
    "row_ht_chk(ht_chart)\n"
   ]
  },
  {
   "cell_type": "markdown",
   "id": "4879b872",
   "metadata": {},
   "source": [
    "When installing anaconda on a student's computer, there's a 1 in 250 chance that the download is corrupted and the installation fails. What are the odds that after having 50 students download anaconda, no one has an installation issue? "
   ]
  },
  {
   "cell_type": "code",
   "execution_count": 184,
   "id": "28e54018",
   "metadata": {},
   "outputs": [
    {
     "data": {
      "text/plain": [
       "0.8155"
      ]
     },
     "execution_count": 184,
     "metadata": {},
     "output_type": "execute_result"
    }
   ],
   "source": [
    "nrows = 10000\n",
    "ncols = 50\n",
    "\n",
    "install_suc = np.random.choice([1,0],nrows * ncols, p = [1/250,249/250]).reshape(nrows,ncols)\n",
    "\n",
    "pd.DataFrame(install_suc).apply(lambda row: row.values.sum() == 0, axis = 1).mean()"
   ]
  },
  {
   "cell_type": "markdown",
   "id": "53dab799",
   "metadata": {},
   "source": [
    "100 students?"
   ]
  },
  {
   "cell_type": "code",
   "execution_count": 183,
   "id": "59cf83a3",
   "metadata": {},
   "outputs": [
    {
     "data": {
      "text/plain": [
       "0.672"
      ]
     },
     "execution_count": 183,
     "metadata": {},
     "output_type": "execute_result"
    }
   ],
   "source": [
    "nrows = 10000\n",
    "ncols = 100\n",
    "\n",
    "install_suc = np.random.choice([1,0],nrows * ncols, p = [1/250,249/250]).reshape(nrows,ncols)\n",
    "\n",
    "pd.DataFrame(install_suc).apply(lambda row: row.values.sum() == 0, axis = 1).mean()\n"
   ]
  },
  {
   "cell_type": "markdown",
   "id": "199ca1a4",
   "metadata": {},
   "source": [
    "What is the probability that we observe an installation issue within the first 150 students that download anaconda?\n",
    "\n"
   ]
  },
  {
   "cell_type": "code",
   "execution_count": 181,
   "id": "4b3e039e",
   "metadata": {},
   "outputs": [
    {
     "data": {
      "text/plain": [
       "0.4585"
      ]
     },
     "execution_count": 181,
     "metadata": {},
     "output_type": "execute_result"
    }
   ],
   "source": [
    "nrows = 10000\n",
    "ncols = 150\n",
    "\n",
    "install_suc = np.random.choice([1,0],nrows * ncols, p = [1/250,249/250]).reshape(nrows,ncols)\n",
    "\n",
    "pd.DataFrame(install_suc).apply(lambda row: row.values.sum() >= 1, axis = 1).mean()"
   ]
  },
  {
   "cell_type": "markdown",
   "id": "a320c39b",
   "metadata": {},
   "source": [
    "How likely is it that 450 students all download anaconda without an issue?"
   ]
  },
  {
   "cell_type": "code",
   "execution_count": 182,
   "id": "251a112a",
   "metadata": {},
   "outputs": [
    {
     "data": {
      "text/plain": [
       "0.1659"
      ]
     },
     "execution_count": 182,
     "metadata": {},
     "output_type": "execute_result"
    }
   ],
   "source": [
    "nrows = 10000\n",
    "ncols = 450\n",
    "\n",
    "install_suc = np.random.choice([1,0],nrows * ncols, p = [1/250,249/250]).reshape(nrows,ncols)\n",
    "\n",
    "pd.DataFrame(install_suc).apply(lambda row: row.values.sum() == 0, axis = 1).mean()"
   ]
  },
  {
   "cell_type": "markdown",
   "id": "4123fc3a",
   "metadata": {},
   "source": [
    "There's a 70% chance on any given day that there will be at least one food truck at Travis Park. However, you haven't seen a food truck there in 3 days. How unlikely is this?\n",
    "\n"
   ]
  },
  {
   "cell_type": "code",
   "execution_count": 185,
   "id": "07c6615c",
   "metadata": {},
   "outputs": [
    {
     "data": {
      "text/plain": [
       "0.02738"
      ]
     },
     "execution_count": 185,
     "metadata": {},
     "output_type": "execute_result"
    }
   ],
   "source": [
    "nrows = 10**5\n",
    "ncols = 3\n",
    "\n",
    "food_truk = np.random.choice([1,0],nrows * ncols, p = [7/10, 3/10]).reshape(nrows,ncols)\n",
    "\n",
    "pd.DataFrame(food_truk).apply(lambda row: row.values.sum() == 0, axis = 1).mean()"
   ]
  },
  {
   "cell_type": "markdown",
   "id": "2c403b35",
   "metadata": {},
   "source": [
    "How likely is it that a food truck will show up sometime this week?"
   ]
  },
  {
   "cell_type": "code",
   "execution_count": 206,
   "id": "515b8b75",
   "metadata": {},
   "outputs": [
    {
     "data": {
      "text/plain": [
       "0.99764"
      ]
     },
     "execution_count": 206,
     "metadata": {},
     "output_type": "execute_result"
    }
   ],
   "source": [
    "nrows = 10**5\n",
    "ncols = 5\n",
    "\n",
    "food_truk = np.random.choice([1,0],nrows * ncols, p = [7/10, 3/10]).reshape(nrows,ncols)\n",
    "\n",
    "pd.DataFrame(food_truk).apply(lambda row: row.values.sum() >= 1, axis = 1).mean()"
   ]
  },
  {
   "cell_type": "markdown",
   "id": "aff2f7c7",
   "metadata": {},
   "source": [
    "If 23 people are in the same room, what are the odds that two of them share a birthday? "
   ]
  },
  {
   "cell_type": "code",
   "execution_count": 177,
   "id": "1c6f3537",
   "metadata": {},
   "outputs": [
    {
     "data": {
      "text/plain": [
       "0.5009"
      ]
     },
     "execution_count": 177,
     "metadata": {},
     "output_type": "execute_result"
    }
   ],
   "source": [
    "year = np.arange(1,366)\n",
    "nrows = 10000\n",
    "ncols = 23\n",
    "\n",
    "birf_date = np.random.choice(year,nrows * ncols).reshape(nrows,ncols)\n",
    "\n",
    "pd.DataFrame(birf_date).apply(lambda row: len(np.unique(row.values)) != ncols, axis = 1).mean()\n"
   ]
  },
  {
   "cell_type": "markdown",
   "id": "0bc00bca",
   "metadata": {},
   "source": [
    "What if it's 20 people? "
   ]
  },
  {
   "cell_type": "code",
   "execution_count": 178,
   "id": "9acd43a7",
   "metadata": {},
   "outputs": [
    {
     "data": {
      "text/plain": [
       "0.4094"
      ]
     },
     "execution_count": 178,
     "metadata": {},
     "output_type": "execute_result"
    }
   ],
   "source": [
    "year = np.arange(1,366)\n",
    "nrows = 10000\n",
    "ncols = 20\n",
    "\n",
    "birf_date = np.random.choice(year,nrows * ncols).reshape(nrows,ncols)\n",
    "\n",
    "pd.DataFrame(birf_date).apply(lambda row: len(np.unique(row.values)) != ncols, axis = 1).mean()\n"
   ]
  },
  {
   "cell_type": "markdown",
   "id": "3b9d54df",
   "metadata": {},
   "source": [
    "40?"
   ]
  },
  {
   "cell_type": "code",
   "execution_count": 179,
   "id": "6e0074c2",
   "metadata": {},
   "outputs": [
    {
     "data": {
      "text/plain": [
       "0.91"
      ]
     },
     "execution_count": 179,
     "metadata": {},
     "output_type": "execute_result"
    }
   ],
   "source": [
    "year = np.arange(1,366)\n",
    "nrows = 100\n",
    "ncols = 40\n",
    "\n",
    "birf_date = np.random.choice(year,nrows * ncols).reshape(nrows,ncols)\n",
    "\n",
    "pd.DataFrame(birf_date).apply(lambda row: len(np.unique(row.values)) != ncols, axis = 1).mean()"
   ]
  },
  {
   "cell_type": "code",
   "execution_count": null,
   "id": "692c9b86",
   "metadata": {},
   "outputs": [],
   "source": []
  }
 ],
 "metadata": {
  "kernelspec": {
   "display_name": "Python 3 (ipykernel)",
   "language": "python",
   "name": "python3"
  },
  "language_info": {
   "codemirror_mode": {
    "name": "ipython",
    "version": 3
   },
   "file_extension": ".py",
   "mimetype": "text/x-python",
   "name": "python",
   "nbconvert_exporter": "python",
   "pygments_lexer": "ipython3",
   "version": "3.9.13"
  }
 },
 "nbformat": 4,
 "nbformat_minor": 5
}
